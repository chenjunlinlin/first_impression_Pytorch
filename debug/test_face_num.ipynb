{
 "cells": [
  {
   "cell_type": "code",
   "execution_count": 4,
   "metadata": {},
   "outputs": [
    {
     "name": "stdout",
     "output_type": "stream",
     "text": [
      "388\n"
     ]
    }
   ],
   "source": [
    "import os\n",
    "root_path = \"dataset/trainframes_face/\"\n",
    "\n",
    "dir_list = os.listdir(root_path)\n",
    "i = 0\n",
    "f = open(\"dataset/face_num_train.csv\", \"w\")\n",
    "for dir in dir_list:\n",
    "    video_path = os.path.join(root_path, dir)\n",
    "    num = len(os.listdir(video_path))\n",
    "    f.write(f\"{dir},{num}\\n\")\n",
    "    if num < 300:\n",
    "        i += 1\n",
    "f.close()\n",
    "print(i)"
   ]
  }
 ],
 "metadata": {
  "kernelspec": {
   "display_name": "big5",
   "language": "python",
   "name": "python3"
  },
  "language_info": {
   "codemirror_mode": {
    "name": "ipython",
    "version": 3
   },
   "file_extension": ".py",
   "mimetype": "text/x-python",
   "name": "python",
   "nbconvert_exporter": "python",
   "pygments_lexer": "ipython3",
   "version": "3.9.17"
  },
  "orig_nbformat": 4
 },
 "nbformat": 4,
 "nbformat_minor": 2
}
