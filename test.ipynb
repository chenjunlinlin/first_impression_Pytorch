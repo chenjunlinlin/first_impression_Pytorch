{
 "cells": [
  {
   "cell_type": "code",
   "execution_count": 12,
   "metadata": {
    "tags": []
   },
   "outputs": [],
   "source": [
    "import pandas as pd\n",
    "import os\n",
    "from options import *\n",
    "import json\n",
    "import sys\n",
    "sys.argv = ['test.py']\n",
    "\n",
    "\n",
    "\n",
    "args = get_args()\n",
    "\n",
    "with open(args.best_model, 'r+') as f:\n",
    "    best_model = json.load(f)\n",
    "    loss, MACC = 20, 99\n",
    "    if best_model['loss'] == None or loss < best_model['loss'] :\n",
    "        best_model['name'] = \"CVPR\"\n",
    "        best_model['loss'] = loss\n",
    "        best_model['MACC'] = MACC\n",
    "        best_model['path'] = os.path.join(args.best_model_save_dir , \"best_{}.pth\".format(args.name))\n",
    "    f.seek(0)\n",
    "    json.dump(best_model, f, indent=4, ensure_ascii=False)\n",
    "f.close()"
   ]
  }
 ],
 "metadata": {
  "kernelspec": {
   "display_name": "Python 3 (ipykernel)",
   "language": "python",
   "name": "python3"
  },
  "language_info": {
   "codemirror_mode": {
    "name": "ipython",
    "version": 3
   },
   "file_extension": ".py",
   "mimetype": "text/x-python",
   "name": "python",
   "nbconvert_exporter": "python",
   "pygments_lexer": "ipython3",
   "version": "3.9.16"
  }
 },
 "nbformat": 4,
 "nbformat_minor": 4
}
